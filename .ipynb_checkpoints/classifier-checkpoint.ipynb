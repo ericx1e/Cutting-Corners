{
 "cells": [
  {
   "cell_type": "code",
   "execution_count": 7,
   "id": "ec6d4580-6a83-4118-80fe-a970859afc8c",
   "metadata": {},
   "outputs": [],
   "source": [
    "import numpy as np\n",
    "import torch\n",
    "import torch.nn as nn\n",
    "from torch.utils.data import Dataset, DataLoader\n",
    "import matplotlib.pyplot as plt"
   ]
  },
  {
   "cell_type": "code",
   "execution_count": 12,
   "id": "b05b6c16-e329-4e6c-8b9a-e2c88a28f5e8",
   "metadata": {},
   "outputs": [],
   "source": [
    "#dataset = \n",
    "#load dataset into dataloader, etc"
   ]
  },
  {
   "cell_type": "code",
   "execution_count": 20,
   "id": "291b339c-55f5-43c0-8058-99f3437f2cbf",
   "metadata": {},
   "outputs": [
    {
     "name": "stdout",
     "output_type": "stream",
     "text": [
      "torch.Size([1, 256, 256])\n",
      "torch.Size([32, 63, 63])\n",
      "torch.Size([32, 63, 63])\n",
      "torch.Size([32, 31, 31])\n"
     ]
    }
   ],
   "source": [
    "class ImageClassifier(nn.Module):\n",
    "    def __init__(self):\n",
    "        super(ImageClassifier, self).__init__()\n",
    "        #goal: simplified Alexnet architecture\n",
    "        #input: 256x256x1 image, grayscaled\n",
    "        #first idea: 3 conv-relu-pool layers, followed by 2 fc layers and softmax non-linearity\n",
    "        \n",
    "        self.conv1 = nn.Conv2d(1, 32, 8, 4)\n",
    "        self.relu = nn.ReLU()\n",
    "        self.pool1 = nn.MaxPool2d(3, 2)\n",
    "        \n",
    "    def forward(self, x):\n",
    "        print(x.shape)\n",
    "        x = self.conv1(x)\n",
    "        print(x.shape)\n",
    "        x = self.relu(x)\n",
    "        print(x.shape)\n",
    "        x = self.pool1(x)\n",
    "        print(x.shape)\n",
    "        \n",
    "net = ImageClassifier()\n",
    "sample_input = torch.tensor(np.random.rand(1, 256, 256)).float()\n",
    "net.forward(sample_input)"
   ]
  }
 ],
 "metadata": {
  "kernelspec": {
   "display_name": "Python 3 (ipykernel)",
   "language": "python",
   "name": "python3"
  },
  "language_info": {
   "codemirror_mode": {
    "name": "ipython",
    "version": 3
   },
   "file_extension": ".py",
   "mimetype": "text/x-python",
   "name": "python",
   "nbconvert_exporter": "python",
   "pygments_lexer": "ipython3",
   "version": "3.11.5"
  }
 },
 "nbformat": 4,
 "nbformat_minor": 5
}
