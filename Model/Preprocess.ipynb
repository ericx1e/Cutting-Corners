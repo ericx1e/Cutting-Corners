{
 "cells": [
  {
   "cell_type": "code",
   "execution_count": 8,
   "id": "initial_id",
   "metadata": {
    "collapsed": true,
    "ExecuteTime": {
     "end_time": "2024-04-20T17:43:08.387685600Z",
     "start_time": "2024-04-20T17:43:07.728871600Z"
    }
   },
   "outputs": [],
   "source": [
    "import pandas as pd\n",
    "import json\n",
    "import numpy as np"
   ]
  },
  {
   "cell_type": "code",
   "execution_count": 12,
   "outputs": [],
   "source": [
    "def get_first_n_lines(file_path, n=100):\n",
    "    \"\"\"\n",
    "    Reads the first n lines of an ndjson file.\n",
    "\n",
    "    Args:\n",
    "        file_path (str): The path to the ndjson file.\n",
    "        n (int, optional): The number of lines to read. Defaults to 100.\n",
    "\n",
    "    Returns:\n",
    "        list: A list of dictionaries, where each dictionary represents a line from the file.\n",
    "    \"\"\"\n",
    "    lines = []\n",
    "    with open(file_path, 'r') as file:\n",
    "        for i, line in enumerate(file):\n",
    "            if i >= n:\n",
    "                break\n",
    "            lines.append(json.loads(line))\n",
    "    return lines\n",
    "\n",
    "# Usage example\n",
    "file_path = [\"airplane.ndjson\", \"eye.ndjson\", \"fork.ndjson\", \"goatee.ndjson\", \"hammer.ndjson\", \"apple.ndjson\"]\n"
   ],
   "metadata": {
    "collapsed": false,
    "ExecuteTime": {
     "end_time": "2024-04-20T17:43:37.101056400Z",
     "start_time": "2024-04-20T17:43:37.084483100Z"
    }
   },
   "id": "97fe7c2a9a2aca94"
  },
  {
   "cell_type": "code",
   "execution_count": 13,
   "outputs": [],
   "source": [
    "def to_matrix(drawing: [[[]]]):\n",
    "    '''\n",
    "    Converts the default format for representing doodles to a matrix of 0s and 1s\n",
    "    '''\n",
    "    all_coords = []\n",
    "    for stroke in drawing:\n",
    "        # print(stroke)\n",
    "        grouped_coords = []\n",
    "        # for coord_index in range(stroke[0]):\n",
    "        #     grouped_coords.append([stroke[0][coord_index], stroke[1][coord_index]])\n",
    "        grouped_coords = [[stroke[0][coord_index], stroke[1][coord_index]] for coord_index in range(len(stroke[0]))]\n",
    "        all_coords.extend(grouped_coords)\n",
    "    matrix = np.zeros((256, 256), dtype=int)\n",
    "    for coord in all_coords:\n",
    "        matrix[coord[0], coord[1]] = 1\n",
    "    return matrix"
   ],
   "metadata": {
    "collapsed": false,
    "ExecuteTime": {
     "end_time": "2024-04-20T17:43:39.213566200Z",
     "start_time": "2024-04-20T17:43:39.213566200Z"
    }
   },
   "id": "df77a3ef6e1a048b"
  },
  {
   "cell_type": "code",
   "execution_count": 18,
   "outputs": [
    {
     "name": "stdout",
     "output_type": "stream",
     "text": [
      "object\n"
     ]
    }
   ],
   "source": [
    "# master_df = pd.DataFrame()\n",
    "# \n",
    "# for path in file_path:\n",
    "#     first_100_lines = get_first_n_lines(path)\n",
    "#     df = pd.DataFrame(first_100_lines)\n",
    "#     df[\"drawing\"] = df[\"drawing\"].apply(to_matrix)\n",
    "#     master_df = pd.concat([master_df, df], ignore_index=True)\n",
    "# \n",
    "# print(master_df[\"drawing\"])\n",
    "# master_df.to_csv('sample_data.csv', index=False)"
   ],
   "metadata": {
    "collapsed": false,
    "ExecuteTime": {
     "end_time": "2024-04-20T17:50:16.052787200Z",
     "start_time": "2024-04-20T17:50:15.895231900Z"
    }
   },
   "id": "28926d4bb13dee7c"
  },
  {
   "cell_type": "code",
   "execution_count": 22,
   "outputs": [
    {
     "data": {
      "text/plain": "array([[0, 0, 0, ..., 0, 0, 0],\n       [0, 0, 0, ..., 0, 0, 0],\n       [0, 0, 0, ..., 0, 0, 0],\n       ...,\n       [0, 0, 0, ..., 0, 0, 0],\n       [0, 0, 0, ..., 0, 0, 0],\n       [0, 0, 0, ..., 0, 0, 0]], dtype=uint8)"
     },
     "execution_count": 22,
     "metadata": {},
     "output_type": "execute_result"
    }
   ],
   "source": [
    "bitmap = np.load(\"C:/Users/kiera/dev/yesyesyes/Model/Data/The Eiffel Tower.npy\")\n",
    "bitmap"
   ],
   "metadata": {
    "collapsed": false,
    "ExecuteTime": {
     "end_time": "2024-04-20T18:17:58.919917800Z",
     "start_time": "2024-04-20T18:17:58.834961400Z"
    }
   },
   "id": "2236ad308fb539a4"
  }
 ],
 "metadata": {
  "kernelspec": {
   "display_name": "Python 3",
   "language": "python",
   "name": "python3"
  },
  "language_info": {
   "codemirror_mode": {
    "name": "ipython",
    "version": 2
   },
   "file_extension": ".py",
   "mimetype": "text/x-python",
   "name": "python",
   "nbconvert_exporter": "python",
   "pygments_lexer": "ipython2",
   "version": "2.7.6"
  }
 },
 "nbformat": 4,
 "nbformat_minor": 5
}
